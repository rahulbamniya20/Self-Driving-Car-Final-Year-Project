{
 "cells": [
  {
   "cell_type": "code",
   "execution_count": 1,
   "id": "bbbd4e25",
   "metadata": {},
   "outputs": [
    {
     "name": "stdout",
     "output_type": "stream",
     "text": [
      "Requirement already satisfied: gym[box2d] in c:\\users\\ankit\\anaconda3\\lib\\site-packages (0.21.0)\n",
      "Requirement already satisfied: pyglet in c:\\users\\ankit\\anaconda3\\lib\\site-packages (1.5.27)\n",
      "Requirement already satisfied: numpy>=1.18.0 in c:\\users\\ankit\\anaconda3\\lib\\site-packages (from gym[box2d]) (1.21.5)\n",
      "Requirement already satisfied: cloudpickle>=1.2.0 in c:\\users\\ankit\\anaconda3\\lib\\site-packages (from gym[box2d]) (2.0.0)\n",
      "Collecting box2d-py==2.3.5\n",
      "  Using cached box2d-py-2.3.5.tar.gz (374 kB)\n",
      "  Preparing metadata (setup.py): started\n",
      "  Preparing metadata (setup.py): finished with status 'done'\n",
      "Building wheels for collected packages: box2d-py\n",
      "  Building wheel for box2d-py (setup.py): started\n",
      "  Building wheel for box2d-py (setup.py): finished with status 'done'\n",
      "  Created wheel for box2d-py: filename=box2d_py-2.3.5-cp39-cp39-win_amd64.whl size=426297 sha256=1952d2dc2623bd1701097283aa3cd0e747b925ab2e3f5521cc0216cb390cfe51\n",
      "  Stored in directory: c:\\users\\ankit\\appdata\\local\\pip\\cache\\wheels\\a4\\c2\\c1\\076651c394f05fe60990cd85616c2d95bc1619aa113f559d7d\n",
      "Successfully built box2d-py\n",
      "Installing collected packages: box2d-py\n",
      "Successfully installed box2d-py-2.3.5\n"
     ]
    },
    {
     "name": "stderr",
     "output_type": "stream",
     "text": [
      "WARNING: Ignoring invalid distribution -rotobuf (c:\\users\\ankit\\anaconda3\\lib\\site-packages)\n",
      "WARNING: Ignoring invalid distribution -rotobuf (c:\\users\\ankit\\anaconda3\\lib\\site-packages)\n",
      "WARNING: Ignoring invalid distribution -rotobuf (c:\\users\\ankit\\anaconda3\\lib\\site-packages)\n",
      "WARNING: Ignoring invalid distribution -rotobuf (c:\\users\\ankit\\anaconda3\\lib\\site-packages)\n",
      "WARNING: Ignoring invalid distribution -rotobuf (c:\\users\\ankit\\anaconda3\\lib\\site-packages)\n",
      "WARNING: Ignoring invalid distribution -rotobuf (c:\\users\\ankit\\anaconda3\\lib\\site-packages)\n",
      "WARNING: Ignoring invalid distribution -rotobuf (c:\\users\\ankit\\anaconda3\\lib\\site-packages)\n"
     ]
    }
   ],
   "source": [
    "!pip install gym[box2d] pyglet"
   ]
  },
  {
   "cell_type": "code",
   "execution_count": 1,
   "id": "0bf8f6ae",
   "metadata": {},
   "outputs": [],
   "source": [
    "import os\n",
    "import gym\n",
    "from stable_baselines3 import PPO\n",
    "from stable_baselines3.common.vec_env import DummyVecEnv\n",
    "from stable_baselines3.common.evaluation import evaluate_policy\n",
    "import time\n"
   ]
  },
  {
   "cell_type": "code",
   "execution_count": 2,
   "id": "a806eb21",
   "metadata": {},
   "outputs": [],
   "source": [
    "environment_name= \"CarRacing-v0\"\n",
    "env=gym.make(environment_name)\n"
   ]
  },
  {
   "cell_type": "code",
   "execution_count": 7,
   "id": "f825e3ac",
   "metadata": {},
   "outputs": [
    {
     "name": "stdout",
     "output_type": "stream",
     "text": [
      "Track generation: 1154..1446 -> 292-tiles track\n"
     ]
    },
    {
     "name": "stderr",
     "output_type": "stream",
     "text": [
      "C:\\Users\\ankit\\anaconda3\\lib\\site-packages\\pyglet\\image\\codecs\\wic.py:406: UserWarning: [WinError -2147417850] Cannot change thread mode after it is set\n",
      "  warnings.warn(str(err))\n"
     ]
    }
   ],
   "source": [
    "env.reset()\n",
    "env.close()"
   ]
  },
  {
   "cell_type": "code",
   "execution_count": 3,
   "id": "8dbc5eda",
   "metadata": {},
   "outputs": [
    {
     "data": {
      "text/plain": [
       "Box([-1.  0.  0.], [1. 1. 1.], (3,), float32)"
      ]
     },
     "execution_count": 3,
     "metadata": {},
     "output_type": "execute_result"
    }
   ],
   "source": [
    "env.action_space"
   ]
  },
  {
   "cell_type": "code",
   "execution_count": 5,
   "id": "a836addc",
   "metadata": {},
   "outputs": [
    {
     "data": {
      "text/plain": [
       "Box([[[0 0 0]\n",
       "  [0 0 0]\n",
       "  [0 0 0]\n",
       "  ...\n",
       "  [0 0 0]\n",
       "  [0 0 0]\n",
       "  [0 0 0]]\n",
       "\n",
       " [[0 0 0]\n",
       "  [0 0 0]\n",
       "  [0 0 0]\n",
       "  ...\n",
       "  [0 0 0]\n",
       "  [0 0 0]\n",
       "  [0 0 0]]\n",
       "\n",
       " [[0 0 0]\n",
       "  [0 0 0]\n",
       "  [0 0 0]\n",
       "  ...\n",
       "  [0 0 0]\n",
       "  [0 0 0]\n",
       "  [0 0 0]]\n",
       "\n",
       " ...\n",
       "\n",
       " [[0 0 0]\n",
       "  [0 0 0]\n",
       "  [0 0 0]\n",
       "  ...\n",
       "  [0 0 0]\n",
       "  [0 0 0]\n",
       "  [0 0 0]]\n",
       "\n",
       " [[0 0 0]\n",
       "  [0 0 0]\n",
       "  [0 0 0]\n",
       "  ...\n",
       "  [0 0 0]\n",
       "  [0 0 0]\n",
       "  [0 0 0]]\n",
       "\n",
       " [[0 0 0]\n",
       "  [0 0 0]\n",
       "  [0 0 0]\n",
       "  ...\n",
       "  [0 0 0]\n",
       "  [0 0 0]\n",
       "  [0 0 0]]], [[[255 255 255]\n",
       "  [255 255 255]\n",
       "  [255 255 255]\n",
       "  ...\n",
       "  [255 255 255]\n",
       "  [255 255 255]\n",
       "  [255 255 255]]\n",
       "\n",
       " [[255 255 255]\n",
       "  [255 255 255]\n",
       "  [255 255 255]\n",
       "  ...\n",
       "  [255 255 255]\n",
       "  [255 255 255]\n",
       "  [255 255 255]]\n",
       "\n",
       " [[255 255 255]\n",
       "  [255 255 255]\n",
       "  [255 255 255]\n",
       "  ...\n",
       "  [255 255 255]\n",
       "  [255 255 255]\n",
       "  [255 255 255]]\n",
       "\n",
       " ...\n",
       "\n",
       " [[255 255 255]\n",
       "  [255 255 255]\n",
       "  [255 255 255]\n",
       "  ...\n",
       "  [255 255 255]\n",
       "  [255 255 255]\n",
       "  [255 255 255]]\n",
       "\n",
       " [[255 255 255]\n",
       "  [255 255 255]\n",
       "  [255 255 255]\n",
       "  ...\n",
       "  [255 255 255]\n",
       "  [255 255 255]\n",
       "  [255 255 255]]\n",
       "\n",
       " [[255 255 255]\n",
       "  [255 255 255]\n",
       "  [255 255 255]\n",
       "  ...\n",
       "  [255 255 255]\n",
       "  [255 255 255]\n",
       "  [255 255 255]]], (96, 96, 3), uint8)"
      ]
     },
     "execution_count": 5,
     "metadata": {},
     "output_type": "execute_result"
    }
   ],
   "source": [
    "env.observation_space\n"
   ]
  },
  {
   "cell_type": "code",
   "execution_count": 6,
   "id": "1dec5009",
   "metadata": {},
   "outputs": [
    {
     "name": "stderr",
     "output_type": "stream",
     "text": [
      "C:\\Users\\ankit\\anaconda3\\lib\\site-packages\\pyglet\\image\\codecs\\wic.py:406: UserWarning: [WinError -2147417850] Cannot change thread mode after it is set\n",
      "  warnings.warn(str(err))\n"
     ]
    }
   ],
   "source": [
    "env.render()\n"
   ]
  },
  {
   "cell_type": "code",
   "execution_count": 7,
   "id": "22d98511",
   "metadata": {},
   "outputs": [],
   "source": [
    "env.close()"
   ]
  },
  {
   "cell_type": "code",
   "execution_count": 8,
   "id": "78138ab8",
   "metadata": {},
   "outputs": [
    {
     "name": "stdout",
     "output_type": "stream",
     "text": [
      "Track generation: 1276..1599 -> 323-tiles track\n",
      "Episode:1 Score:-40.99378881987643\n",
      "Track generation: 1071..1362 -> 291-tiles track\n",
      "Episode:2 Score:-31.03448275862112\n",
      "Track generation: 1199..1503 -> 304-tiles track\n",
      "Episode:3 Score:-33.99339933993449\n",
      "Track generation: 1135..1423 -> 288-tiles track\n",
      "Episode:4 Score:-33.797909407666005\n",
      "Track generation: 1125..1410 -> 285-tiles track\n",
      "Episode:5 Score:-29.57746478873279\n"
     ]
    }
   ],
   "source": [
    "episodes = 5\n",
    "for episode in range(1, episodes+1):\n",
    "    obs = env.reset()\n",
    "    done = False\n",
    "    score = 0 \n",
    "    \n",
    "    while not done:\n",
    "        env.render()\n",
    "        \n",
    "        action = env.action_space.sample()\n",
    "        obs, reward, done, info = env.step(action)\n",
    "        score+=reward\n",
    "    print('Episode:{} Score:{}'.format(episode, score))\n",
    "env.close()\n"
   ]
  },
  {
   "cell_type": "code",
   "execution_count": 9,
   "id": "ec0ca641",
   "metadata": {},
   "outputs": [],
   "source": [
    "environment_name= \"CarRacing-v0\"\n",
    "env=gym.make(environment_name)"
   ]
  },
  {
   "cell_type": "code",
   "execution_count": 10,
   "id": "63f6b302",
   "metadata": {},
   "outputs": [],
   "source": [
    "env=DummyVecEnv([lambda : env])"
   ]
  },
  {
   "cell_type": "code",
   "execution_count": null,
   "id": "2e97b642",
   "metadata": {},
   "outputs": [],
   "source": []
  },
  {
   "cell_type": "code",
   "execution_count": 11,
   "id": "506c4957",
   "metadata": {},
   "outputs": [
    {
     "name": "stdout",
     "output_type": "stream",
     "text": [
      "Using cpu device\n",
      "Wrapping the env in a VecTransposeImage.\n"
     ]
    }
   ],
   "source": [
    "log_path=os.path.join(\"training\",\"logs\")\n",
    "model= PPO('CnnPolicy',env,verbose=1,tensorboard_log=log_path)\n",
    "\n",
    "\n"
   ]
  },
  {
   "cell_type": "code",
   "execution_count": 12,
   "id": "9bde2e92",
   "metadata": {},
   "outputs": [
    {
     "name": "stdout",
     "output_type": "stream",
     "text": [
      "Track generation: 1203..1508 -> 305-tiles track\n",
      "Logging to training\\logs\\PPO_8\n",
      "Track generation: 1069..1345 -> 276-tiles track\n",
      "Track generation: 1041..1305 -> 264-tiles track\n",
      "-----------------------------\n",
      "| time/              |      |\n",
      "|    fps             | 122  |\n",
      "|    iterations      | 1    |\n",
      "|    time_elapsed    | 16   |\n",
      "|    total_timesteps | 2048 |\n",
      "-----------------------------\n",
      "Track generation: 1353..1696 -> 343-tiles track\n",
      "Track generation: 1168..1465 -> 297-tiles track\n",
      "------------------------------------------\n",
      "| time/                   |              |\n",
      "|    fps                  | 82           |\n",
      "|    iterations           | 2            |\n",
      "|    time_elapsed         | 49           |\n",
      "|    total_timesteps      | 4096         |\n",
      "| train/                  |              |\n",
      "|    approx_kl            | 0.0062801726 |\n",
      "|    clip_fraction        | 0.0491       |\n",
      "|    clip_range           | 0.2          |\n",
      "|    entropy_loss         | -4.23        |\n",
      "|    explained_variance   | 0.00389      |\n",
      "|    learning_rate        | 0.0003       |\n",
      "|    loss                 | 0.188        |\n",
      "|    n_updates            | 10           |\n",
      "|    policy_gradient_loss | -0.00486     |\n",
      "|    std                  | 0.985        |\n",
      "|    value_loss           | 0.619        |\n",
      "------------------------------------------\n",
      "Track generation: 979..1230 -> 251-tiles track\n",
      "retry to generate track (normal if there are not manyinstances of this message)\n",
      "Track generation: 1151..1443 -> 292-tiles track\n",
      "Track generation: 1032..1294 -> 262-tiles track\n",
      "------------------------------------------\n",
      "| time/                   |              |\n",
      "|    fps                  | 66           |\n",
      "|    iterations           | 3            |\n",
      "|    time_elapsed         | 92           |\n",
      "|    total_timesteps      | 6144         |\n",
      "| train/                  |              |\n",
      "|    approx_kl            | 0.0116864685 |\n",
      "|    clip_fraction        | 0.1          |\n",
      "|    clip_range           | 0.2          |\n",
      "|    entropy_loss         | -4.18        |\n",
      "|    explained_variance   | 0.027        |\n",
      "|    learning_rate        | 0.0003       |\n",
      "|    loss                 | 0.0573       |\n",
      "|    n_updates            | 20           |\n",
      "|    policy_gradient_loss | -0.015       |\n",
      "|    std                  | 0.966        |\n",
      "|    value_loss           | 0.43         |\n",
      "------------------------------------------\n",
      "Track generation: 1024..1284 -> 260-tiles track\n",
      "Track generation: 1075..1348 -> 273-tiles track\n",
      "-----------------------------------------\n",
      "| time/                   |             |\n",
      "|    fps                  | 60          |\n",
      "|    iterations           | 4           |\n",
      "|    time_elapsed         | 136         |\n",
      "|    total_timesteps      | 8192        |\n",
      "| train/                  |             |\n",
      "|    approx_kl            | 0.010154808 |\n",
      "|    clip_fraction        | 0.109       |\n",
      "|    clip_range           | 0.2         |\n",
      "|    entropy_loss         | -4.14       |\n",
      "|    explained_variance   | 0.0846      |\n",
      "|    learning_rate        | 0.0003      |\n",
      "|    loss                 | 0.145       |\n",
      "|    n_updates            | 30          |\n",
      "|    policy_gradient_loss | -0.0137     |\n",
      "|    std                  | 0.959       |\n",
      "|    value_loss           | 0.385       |\n",
      "-----------------------------------------\n",
      "Track generation: 858..1082 -> 224-tiles track\n",
      "Track generation: 1287..1613 -> 326-tiles track\n",
      "-----------------------------------------\n",
      "| time/                   |             |\n",
      "|    fps                  | 57          |\n",
      "|    iterations           | 5           |\n",
      "|    time_elapsed         | 177         |\n",
      "|    total_timesteps      | 10240       |\n",
      "| train/                  |             |\n",
      "|    approx_kl            | 0.012487111 |\n",
      "|    clip_fraction        | 0.132       |\n",
      "|    clip_range           | 0.2         |\n",
      "|    entropy_loss         | -4.11       |\n",
      "|    explained_variance   | 0.16        |\n",
      "|    learning_rate        | 0.0003      |\n",
      "|    loss                 | 0.0904      |\n",
      "|    n_updates            | 40          |\n",
      "|    policy_gradient_loss | -0.0206     |\n",
      "|    std                  | 0.946       |\n",
      "|    value_loss           | 0.507       |\n",
      "-----------------------------------------\n"
     ]
    },
    {
     "data": {
      "text/plain": [
       "<stable_baselines3.ppo.ppo.PPO at 0x1c7fb822c10>"
      ]
     },
     "execution_count": 12,
     "metadata": {},
     "output_type": "execute_result"
    }
   ],
   "source": [
    "model.learn(total_timesteps=10000)"
   ]
  },
  {
   "cell_type": "code",
   "execution_count": 13,
   "id": "6a9d56b4",
   "metadata": {},
   "outputs": [],
   "source": [
    "env.close()\n"
   ]
  },
  {
   "cell_type": "code",
   "execution_count": 14,
   "id": "29c41507",
   "metadata": {},
   "outputs": [],
   "source": [
    "PPO_path=os.path.join('training','saved Models','PPO_driving_Model')\n"
   ]
  },
  {
   "cell_type": "code",
   "execution_count": 15,
   "id": "ab0114ab",
   "metadata": {},
   "outputs": [],
   "source": [
    "model.save(PPO_path)"
   ]
  },
  {
   "cell_type": "code",
   "execution_count": 22,
   "id": "d2455f79",
   "metadata": {},
   "outputs": [],
   "source": [
    "del model\n"
   ]
  },
  {
   "cell_type": "code",
   "execution_count": 16,
   "id": "87ca508c",
   "metadata": {
    "scrolled": true
   },
   "outputs": [
    {
     "name": "stdout",
     "output_type": "stream",
     "text": [
      "Wrapping the env in a VecTransposeImage.\n"
     ]
    }
   ],
   "source": [
    "model =PPO.load(PPO_path,env)\n"
   ]
  },
  {
   "cell_type": "code",
   "execution_count": 19,
   "id": "ca973dcf",
   "metadata": {},
   "outputs": [],
   "source": [
    "env.close()"
   ]
  },
  {
   "cell_type": "code",
   "execution_count": 17,
   "id": "890e3c30",
   "metadata": {},
   "outputs": [
    {
     "name": "stderr",
     "output_type": "stream",
     "text": [
      "C:\\Users\\ankit\\anaconda3\\lib\\site-packages\\stable_baselines3\\common\\evaluation.py:65: UserWarning: Evaluation environment is not wrapped with a ``Monitor`` wrapper. This may result in reporting modified episode lengths and rewards, if other wrappers happen to modify these. Consider wrapping environment first with ``Monitor`` wrapper.\n",
      "  warnings.warn(\n"
     ]
    },
    {
     "name": "stdout",
     "output_type": "stream",
     "text": [
      "Track generation: 1138..1427 -> 289-tiles track\n",
      "Track generation: 1079..1354 -> 275-tiles track\n",
      "retry to generate track (normal if there are not manyinstances of this message)\n",
      "Track generation: 1132..1419 -> 287-tiles track\n",
      "Track generation: 1164..1459 -> 295-tiles track\n",
      "retry to generate track (normal if there are not manyinstances of this message)\n",
      "Track generation: 1049..1347 -> 298-tiles track\n",
      "retry to generate track (normal if there are not manyinstances of this message)\n",
      "Track generation: 1259..1578 -> 319-tiles track\n",
      "Track generation: 962..1211 -> 249-tiles track\n",
      "Track generation: 1093..1375 -> 282-tiles track\n",
      "Track generation: 1156..1449 -> 293-tiles track\n",
      "Track generation: 935..1177 -> 242-tiles track\n",
      "Track generation: 1142..1431 -> 289-tiles track\n",
      "Track generation: 1215..1523 -> 308-tiles track\n",
      "Track generation: 1045..1310 -> 265-tiles track\n",
      "Track generation: 1265..1585 -> 320-tiles track\n"
     ]
    },
    {
     "data": {
      "text/plain": [
       "(-80.1085880048573, 15.003737309578014)"
      ]
     },
     "execution_count": 17,
     "metadata": {},
     "output_type": "execute_result"
    }
   ],
   "source": [
    "evaluate_policy(model,env,n_eval_episodes=10,render=True)\n"
   ]
  },
  {
   "cell_type": "code",
   "execution_count": 26,
   "id": "d2c21214",
   "metadata": {},
   "outputs": [
    {
     "name": "stdout",
     "output_type": "stream",
     "text": [
      "Using cpu device\n",
      "Wrapping the env in a VecTransposeImage.\n"
     ]
    }
   ],
   "source": [
    "log_path=os.path.join(\"training\",\"logs\")\n",
    "model= PPO('CnnPolicy',env,verbose=1,tensorboard_log=log_path)"
   ]
  },
  {
   "cell_type": "code",
   "execution_count": 20,
   "id": "808f1b27",
   "metadata": {},
   "outputs": [
    {
     "name": "stdout",
     "output_type": "stream",
     "text": [
      "Track generation: 1288..1614 -> 326-tiles track\n",
      "Logging to training\\logs\\PPO_9\n",
      "Track generation: 1092..1369 -> 277-tiles track\n",
      "Track generation: 1264..1584 -> 320-tiles track\n",
      "-----------------------------\n",
      "| time/              |      |\n",
      "|    fps             | 177  |\n",
      "|    iterations      | 1    |\n",
      "|    time_elapsed    | 11   |\n",
      "|    total_timesteps | 2048 |\n",
      "-----------------------------\n",
      "Track generation: 1172..1476 -> 304-tiles track\n",
      "Track generation: 1201..1505 -> 304-tiles track\n",
      "-----------------------------------------\n",
      "| time/                   |             |\n",
      "|    fps                  | 90          |\n",
      "|    iterations           | 2           |\n",
      "|    time_elapsed         | 45          |\n",
      "|    total_timesteps      | 4096        |\n",
      "| train/                  |             |\n",
      "|    approx_kl            | 0.014508201 |\n",
      "|    clip_fraction        | 0.173       |\n",
      "|    clip_range           | 0.2         |\n",
      "|    entropy_loss         | -4.06       |\n",
      "|    explained_variance   | 0.309       |\n",
      "|    learning_rate        | 0.0003      |\n",
      "|    loss                 | 0.21        |\n",
      "|    n_updates            | 60          |\n",
      "|    policy_gradient_loss | -0.0238     |\n",
      "|    std                  | 0.935       |\n",
      "|    value_loss           | 0.411       |\n",
      "-----------------------------------------\n",
      "Track generation: 1068..1339 -> 271-tiles track\n",
      "Track generation: 1147..1438 -> 291-tiles track\n",
      "-----------------------------------------\n",
      "| time/                   |             |\n",
      "|    fps                  | 77          |\n",
      "|    iterations           | 3           |\n",
      "|    time_elapsed         | 79          |\n",
      "|    total_timesteps      | 6144        |\n",
      "| train/                  |             |\n",
      "|    approx_kl            | 0.017029433 |\n",
      "|    clip_fraction        | 0.173       |\n",
      "|    clip_range           | 0.2         |\n",
      "|    entropy_loss         | -4.05       |\n",
      "|    explained_variance   | 0.388       |\n",
      "|    learning_rate        | 0.0003      |\n",
      "|    loss                 | 0.0464      |\n",
      "|    n_updates            | 70          |\n",
      "|    policy_gradient_loss | -0.0231     |\n",
      "|    std                  | 0.931       |\n",
      "|    value_loss           | 0.326       |\n",
      "-----------------------------------------\n",
      "Track generation: 1195..1498 -> 303-tiles track\n",
      "Track generation: 1239..1553 -> 314-tiles track\n",
      "-----------------------------------------\n",
      "| time/                   |             |\n",
      "|    fps                  | 74          |\n",
      "|    iterations           | 4           |\n",
      "|    time_elapsed         | 109         |\n",
      "|    total_timesteps      | 8192        |\n",
      "| train/                  |             |\n",
      "|    approx_kl            | 0.024454972 |\n",
      "|    clip_fraction        | 0.215       |\n",
      "|    clip_range           | 0.2         |\n",
      "|    entropy_loss         | -4.03       |\n",
      "|    explained_variance   | 0.432       |\n",
      "|    learning_rate        | 0.0003      |\n",
      "|    loss                 | 0.0405      |\n",
      "|    n_updates            | 80          |\n",
      "|    policy_gradient_loss | -0.0321     |\n",
      "|    std                  | 0.925       |\n",
      "|    value_loss           | 0.323       |\n",
      "-----------------------------------------\n",
      "Track generation: 1132..1419 -> 287-tiles track\n",
      "Track generation: 1244..1559 -> 315-tiles track\n",
      "-----------------------------------------\n",
      "| time/                   |             |\n",
      "|    fps                  | 71          |\n",
      "|    iterations           | 5           |\n",
      "|    time_elapsed         | 142         |\n",
      "|    total_timesteps      | 10240       |\n",
      "| train/                  |             |\n",
      "|    approx_kl            | 0.023362922 |\n",
      "|    clip_fraction        | 0.239       |\n",
      "|    clip_range           | 0.2         |\n",
      "|    entropy_loss         | -4.01       |\n",
      "|    explained_variance   | 0.0436      |\n",
      "|    learning_rate        | 0.0003      |\n",
      "|    loss                 | -0.0409     |\n",
      "|    n_updates            | 90          |\n",
      "|    policy_gradient_loss | -0.0279     |\n",
      "|    std                  | 0.918       |\n",
      "|    value_loss           | 0.273       |\n",
      "-----------------------------------------\n",
      "Track generation: 1056..1324 -> 268-tiles track\n",
      "Track generation: 1132..1418 -> 286-tiles track\n",
      "----------------------------------------\n",
      "| time/                   |            |\n",
      "|    fps                  | 70         |\n",
      "|    iterations           | 6          |\n",
      "|    time_elapsed         | 175        |\n",
      "|    total_timesteps      | 12288      |\n",
      "| train/                  |            |\n",
      "|    approx_kl            | 0.03193158 |\n",
      "|    clip_fraction        | 0.256      |\n",
      "|    clip_range           | 0.2        |\n",
      "|    entropy_loss         | -3.98      |\n",
      "|    explained_variance   | 0.497      |\n",
      "|    learning_rate        | 0.0003     |\n",
      "|    loss                 | 0.011      |\n",
      "|    n_updates            | 100        |\n",
      "|    policy_gradient_loss | -0.0398    |\n",
      "|    std                  | 0.908      |\n",
      "|    value_loss           | 0.325      |\n",
      "----------------------------------------\n",
      "Track generation: 1212..1519 -> 307-tiles track\n",
      "Track generation: 1212..1519 -> 307-tiles track\n",
      "----------------------------------------\n",
      "| time/                   |            |\n",
      "|    fps                  | 68         |\n",
      "|    iterations           | 7          |\n",
      "|    time_elapsed         | 208        |\n",
      "|    total_timesteps      | 14336      |\n",
      "| train/                  |            |\n",
      "|    approx_kl            | 0.03338989 |\n",
      "|    clip_fraction        | 0.273      |\n",
      "|    clip_range           | 0.2        |\n",
      "|    entropy_loss         | -3.95      |\n",
      "|    explained_variance   | 0.557      |\n",
      "|    learning_rate        | 0.0003     |\n",
      "|    loss                 | -0.0273    |\n",
      "|    n_updates            | 110        |\n",
      "|    policy_gradient_loss | -0.0434    |\n",
      "|    std                  | 0.899      |\n",
      "|    value_loss           | 0.28       |\n",
      "----------------------------------------\n",
      "Track generation: 1167..1463 -> 296-tiles track\n",
      "Track generation: 990..1241 -> 251-tiles track\n",
      "retry to generate track (normal if there are not manyinstances of this message)\n",
      "Track generation: 1232..1544 -> 312-tiles track\n",
      "-----------------------------------------\n",
      "| time/                   |             |\n",
      "|    fps                  | 67          |\n",
      "|    iterations           | 8           |\n",
      "|    time_elapsed         | 241         |\n",
      "|    total_timesteps      | 16384       |\n",
      "| train/                  |             |\n",
      "|    approx_kl            | 0.035774983 |\n",
      "|    clip_fraction        | 0.273       |\n",
      "|    clip_range           | 0.2         |\n",
      "|    entropy_loss         | -3.92       |\n",
      "|    explained_variance   | 0.633       |\n",
      "|    learning_rate        | 0.0003      |\n",
      "|    loss                 | 0.018       |\n",
      "|    n_updates            | 120         |\n",
      "|    policy_gradient_loss | -0.0436     |\n",
      "|    std                  | 0.888       |\n",
      "|    value_loss           | 0.233       |\n",
      "-----------------------------------------\n",
      "Track generation: 1016..1274 -> 258-tiles track\n",
      "Track generation: 1244..1559 -> 315-tiles track\n",
      "---------------------------------------\n",
      "| time/                   |           |\n",
      "|    fps                  | 66        |\n",
      "|    iterations           | 9         |\n",
      "|    time_elapsed         | 275       |\n",
      "|    total_timesteps      | 18432     |\n",
      "| train/                  |           |\n",
      "|    approx_kl            | 0.0512066 |\n",
      "|    clip_fraction        | 0.333     |\n",
      "|    clip_range           | 0.2       |\n",
      "|    entropy_loss         | -3.87     |\n",
      "|    explained_variance   | 0.48      |\n",
      "|    learning_rate        | 0.0003    |\n",
      "|    loss                 | -0.0157   |\n",
      "|    n_updates            | 130       |\n",
      "|    policy_gradient_loss | -0.0499   |\n",
      "|    std                  | 0.873     |\n",
      "|    value_loss           | 0.227     |\n",
      "---------------------------------------\n",
      "Track generation: 1211..1518 -> 307-tiles track\n",
      "Track generation: 1150..1442 -> 292-tiles track\n",
      "-----------------------------------------\n",
      "| time/                   |             |\n",
      "|    fps                  | 66          |\n",
      "|    iterations           | 10          |\n",
      "|    time_elapsed         | 307         |\n",
      "|    total_timesteps      | 20480       |\n",
      "| train/                  |             |\n",
      "|    approx_kl            | 0.050258584 |\n",
      "|    clip_fraction        | 0.339       |\n",
      "|    clip_range           | 0.2         |\n",
      "|    entropy_loss         | -3.83       |\n",
      "|    explained_variance   | 0.452       |\n",
      "|    learning_rate        | 0.0003      |\n",
      "|    loss                 | -0.0463     |\n",
      "|    n_updates            | 140         |\n",
      "|    policy_gradient_loss | -0.0469     |\n",
      "|    std                  | 0.863       |\n",
      "|    value_loss           | 0.262       |\n",
      "-----------------------------------------\n",
      "Track generation: 1107..1388 -> 281-tiles track\n",
      "Track generation: 1051..1318 -> 267-tiles track\n",
      "----------------------------------------\n",
      "| time/                   |            |\n",
      "|    fps                  | 65         |\n",
      "|    iterations           | 11         |\n",
      "|    time_elapsed         | 344        |\n",
      "|    total_timesteps      | 22528      |\n",
      "| train/                  |            |\n",
      "|    approx_kl            | 0.06536934 |\n",
      "|    clip_fraction        | 0.374      |\n",
      "|    clip_range           | 0.2        |\n",
      "|    entropy_loss         | -3.79      |\n",
      "|    explained_variance   | 0.418      |\n",
      "|    learning_rate        | 0.0003     |\n",
      "|    loss                 | -0.0166    |\n",
      "|    n_updates            | 150        |\n",
      "|    policy_gradient_loss | -0.0545    |\n",
      "|    std                  | 0.848      |\n",
      "|    value_loss           | 0.194      |\n",
      "----------------------------------------\n",
      "Track generation: 1098..1384 -> 286-tiles track\n",
      "Track generation: 1095..1373 -> 278-tiles track\n",
      "-----------------------------------------\n",
      "| time/                   |             |\n",
      "|    fps                  | 65          |\n",
      "|    iterations           | 12          |\n",
      "|    time_elapsed         | 373         |\n",
      "|    total_timesteps      | 24576       |\n",
      "| train/                  |             |\n",
      "|    approx_kl            | 0.049308285 |\n",
      "|    clip_fraction        | 0.315       |\n",
      "|    clip_range           | 0.2         |\n",
      "|    entropy_loss         | -3.74       |\n",
      "|    explained_variance   | 0.572       |\n",
      "|    learning_rate        | 0.0003      |\n",
      "|    loss                 | 0.00509     |\n",
      "|    n_updates            | 160         |\n",
      "|    policy_gradient_loss | -0.0488     |\n",
      "|    std                  | 0.836       |\n",
      "|    value_loss           | 0.29        |\n",
      "-----------------------------------------\n",
      "Track generation: 1360..1704 -> 344-tiles track\n",
      "Track generation: 1287..1613 -> 326-tiles track\n",
      "-----------------------------------------\n",
      "| time/                   |             |\n",
      "|    fps                  | 65          |\n",
      "|    iterations           | 13          |\n",
      "|    time_elapsed         | 406         |\n",
      "|    total_timesteps      | 26624       |\n",
      "| train/                  |             |\n",
      "|    approx_kl            | 0.050240442 |\n",
      "|    clip_fraction        | 0.354       |\n",
      "|    clip_range           | 0.2         |\n",
      "|    entropy_loss         | -3.7        |\n",
      "|    explained_variance   | 0.553       |\n",
      "|    learning_rate        | 0.0003      |\n",
      "|    loss                 | -0.0134     |\n",
      "|    n_updates            | 170         |\n",
      "|    policy_gradient_loss | -0.044      |\n",
      "|    std                  | 0.827       |\n",
      "|    value_loss           | 0.237       |\n",
      "-----------------------------------------\n",
      "Track generation: 1120..1404 -> 284-tiles track\n",
      "Track generation: 1104..1383 -> 279-tiles track\n",
      "-----------------------------------------\n",
      "| time/                   |             |\n",
      "|    fps                  | 64          |\n",
      "|    iterations           | 14          |\n",
      "|    time_elapsed         | 441         |\n",
      "|    total_timesteps      | 28672       |\n",
      "| train/                  |             |\n",
      "|    approx_kl            | 0.058091473 |\n",
      "|    clip_fraction        | 0.373       |\n",
      "|    clip_range           | 0.2         |\n",
      "|    entropy_loss         | -3.66       |\n",
      "|    explained_variance   | 0.543       |\n",
      "|    learning_rate        | 0.0003      |\n",
      "|    loss                 | -0.034      |\n",
      "|    n_updates            | 180         |\n",
      "|    policy_gradient_loss | -0.0503     |\n",
      "|    std                  | 0.812       |\n",
      "|    value_loss           | 0.207       |\n",
      "-----------------------------------------\n",
      "Track generation: 1233..1545 -> 312-tiles track\n",
      "Track generation: 1063..1333 -> 270-tiles track\n",
      "----------------------------------------\n",
      "| time/                   |            |\n",
      "|    fps                  | 63         |\n",
      "|    iterations           | 15         |\n",
      "|    time_elapsed         | 480        |\n",
      "|    total_timesteps      | 30720      |\n",
      "| train/                  |            |\n",
      "|    approx_kl            | 0.08782733 |\n",
      "|    clip_fraction        | 0.426      |\n",
      "|    clip_range           | 0.2        |\n",
      "|    entropy_loss         | -3.62      |\n",
      "|    explained_variance   | 0.587      |\n",
      "|    learning_rate        | 0.0003     |\n",
      "|    loss                 | -0.0668    |\n",
      "|    n_updates            | 190        |\n",
      "|    policy_gradient_loss | -0.0595    |\n",
      "|    std                  | 0.806      |\n",
      "|    value_loss           | 0.206      |\n",
      "----------------------------------------\n",
      "Track generation: 965..1210 -> 245-tiles track\n",
      "Track generation: 1168..1464 -> 296-tiles track\n",
      "---------------------------------------\n",
      "| time/                   |           |\n",
      "|    fps                  | 63        |\n",
      "|    iterations           | 16        |\n",
      "|    time_elapsed         | 519       |\n",
      "|    total_timesteps      | 32768     |\n",
      "| train/                  |           |\n",
      "|    approx_kl            | 0.0870904 |\n",
      "|    clip_fraction        | 0.46      |\n",
      "|    clip_range           | 0.2       |\n",
      "|    entropy_loss         | -3.6      |\n",
      "|    explained_variance   | 0.625     |\n",
      "|    learning_rate        | 0.0003    |\n",
      "|    loss                 | -0.0329   |\n",
      "|    n_updates            | 200       |\n",
      "|    policy_gradient_loss | -0.0461   |\n",
      "|    std                  | 0.802     |\n",
      "|    value_loss           | 0.171     |\n",
      "---------------------------------------\n",
      "Track generation: 1115..1398 -> 283-tiles track\n",
      "Track generation: 1252..1569 -> 317-tiles track\n",
      "-----------------------------------------\n",
      "| time/                   |             |\n",
      "|    fps                  | 62          |\n",
      "|    iterations           | 17          |\n",
      "|    time_elapsed         | 557         |\n",
      "|    total_timesteps      | 34816       |\n",
      "| train/                  |             |\n",
      "|    approx_kl            | 0.071088776 |\n",
      "|    clip_fraction        | 0.428       |\n",
      "|    clip_range           | 0.2         |\n",
      "|    entropy_loss         | -3.57       |\n",
      "|    explained_variance   | 0.745       |\n",
      "|    learning_rate        | 0.0003      |\n",
      "|    loss                 | -0.0535     |\n",
      "|    n_updates            | 210         |\n",
      "|    policy_gradient_loss | -0.0394     |\n",
      "|    std                  | 0.791       |\n",
      "|    value_loss           | 0.172       |\n",
      "-----------------------------------------\n",
      "Track generation: 1236..1549 -> 313-tiles track\n",
      "Track generation: 1105..1388 -> 283-tiles track\n",
      "retry to generate track (normal if there are not manyinstances of this message)\n",
      "Track generation: 1190..1491 -> 301-tiles track\n",
      "----------------------------------------\n",
      "| time/                   |            |\n",
      "|    fps                  | 61         |\n",
      "|    iterations           | 18         |\n",
      "|    time_elapsed         | 597        |\n",
      "|    total_timesteps      | 36864      |\n",
      "| train/                  |            |\n",
      "|    approx_kl            | 0.05986359 |\n",
      "|    clip_fraction        | 0.41       |\n",
      "|    clip_range           | 0.2        |\n",
      "|    entropy_loss         | -3.53      |\n",
      "|    explained_variance   | 0.898      |\n",
      "|    learning_rate        | 0.0003     |\n",
      "|    loss                 | -0.0707    |\n",
      "|    n_updates            | 220        |\n",
      "|    policy_gradient_loss | -0.0451    |\n",
      "|    std                  | 0.782      |\n",
      "|    value_loss           | 0.0998     |\n",
      "----------------------------------------\n",
      "Track generation: 1134..1422 -> 288-tiles track\n",
      "Track generation: 1172..1471 -> 299-tiles track\n",
      "retry to generate track (normal if there are not manyinstances of this message)\n",
      "Track generation: 1162..1459 -> 297-tiles track\n",
      "retry to generate track (normal if there are not manyinstances of this message)\n",
      "Track generation: 1041..1305 -> 264-tiles track\n",
      "----------------------------------------\n",
      "| time/                   |            |\n",
      "|    fps                  | 61         |\n",
      "|    iterations           | 19         |\n",
      "|    time_elapsed         | 635        |\n",
      "|    total_timesteps      | 38912      |\n",
      "| train/                  |            |\n",
      "|    approx_kl            | 0.07676717 |\n",
      "|    clip_fraction        | 0.428      |\n",
      "|    clip_range           | 0.2        |\n",
      "|    entropy_loss         | -3.49      |\n",
      "|    explained_variance   | 0.903      |\n",
      "|    learning_rate        | 0.0003     |\n",
      "|    loss                 | -0.0384    |\n",
      "|    n_updates            | 230        |\n",
      "|    policy_gradient_loss | -0.0443    |\n",
      "|    std                  | 0.773      |\n",
      "|    value_loss           | 0.125      |\n",
      "----------------------------------------\n",
      "Track generation: 1116..1405 -> 289-tiles track\n",
      "Track generation: 1251..1568 -> 317-tiles track\n",
      "----------------------------------------\n",
      "| time/                   |            |\n",
      "|    fps                  | 60         |\n",
      "|    iterations           | 20         |\n",
      "|    time_elapsed         | 675        |\n",
      "|    total_timesteps      | 40960      |\n",
      "| train/                  |            |\n",
      "|    approx_kl            | 0.05564957 |\n",
      "|    clip_fraction        | 0.413      |\n",
      "|    clip_range           | 0.2        |\n",
      "|    entropy_loss         | -3.47      |\n",
      "|    explained_variance   | 0.873      |\n",
      "|    learning_rate        | 0.0003     |\n",
      "|    loss                 | -0.0356    |\n",
      "|    n_updates            | 240        |\n",
      "|    policy_gradient_loss | -0.0392    |\n",
      "|    std                  | 0.771      |\n",
      "|    value_loss           | 0.11       |\n",
      "----------------------------------------\n"
     ]
    },
    {
     "data": {
      "text/plain": [
       "<stable_baselines3.ppo.ppo.PPO at 0x1c780030fa0>"
      ]
     },
     "execution_count": 20,
     "metadata": {},
     "output_type": "execute_result"
    }
   ],
   "source": [
    "model.learn(total_timesteps=40000)"
   ]
  },
  {
   "cell_type": "code",
   "execution_count": 24,
   "id": "1ef8f25b",
   "metadata": {},
   "outputs": [],
   "source": [
    "PPO_path=os.path.join('training','saved Models','PPO_driving_Model_40000')\n",
    "model.save(PPO_path)"
   ]
  },
  {
   "cell_type": "code",
   "execution_count": 25,
   "id": "9ff1b8a6",
   "metadata": {},
   "outputs": [],
   "source": [
    "PPO_path=os.path.join('training','saved Models','PPO_driving_Model_40000')\n",
    "\n",
    "\n"
   ]
  },
  {
   "cell_type": "code",
   "execution_count": 26,
   "id": "a23ab845",
   "metadata": {},
   "outputs": [
    {
     "name": "stdout",
     "output_type": "stream",
     "text": [
      "Wrapping the env in a VecTransposeImage.\n"
     ]
    }
   ],
   "source": [
    "model =PPO.load(PPO_path,env)"
   ]
  },
  {
   "cell_type": "code",
   "execution_count": 27,
   "id": "e3771dbb",
   "metadata": {},
   "outputs": [
    {
     "name": "stdout",
     "output_type": "stream",
     "text": [
      "Track generation: 1100..1383 -> 283-tiles track\n",
      "Track generation: 1161..1457 -> 296-tiles track\n",
      "Track generation: 1237..1550 -> 313-tiles track\n",
      "Track generation: 1225..1535 -> 310-tiles track\n",
      "Track generation: 1292..1629 -> 337-tiles track\n",
      "Track generation: 1212..1519 -> 307-tiles track\n",
      "Track generation: 1029..1298 -> 269-tiles track\n",
      "Track generation: 1109..1390 -> 281-tiles track\n",
      "Track generation: 1167..1463 -> 296-tiles track\n",
      "Track generation: 976..1224 -> 248-tiles track\n",
      "Track generation: 1111..1393 -> 282-tiles track\n"
     ]
    },
    {
     "data": {
      "text/plain": [
       "(-43.18024308979511, 9.994527869634675)"
      ]
     },
     "execution_count": 27,
     "metadata": {},
     "output_type": "execute_result"
    }
   ],
   "source": [
    "evaluate_policy(model,env,n_eval_episodes=10,render=True)"
   ]
  },
  {
   "cell_type": "code",
   "execution_count": 28,
   "id": "ee154fbf",
   "metadata": {},
   "outputs": [],
   "source": [
    "env.close()"
   ]
  },
  {
   "cell_type": "code",
   "execution_count": null,
   "id": "9b3d11a1",
   "metadata": {},
   "outputs": [],
   "source": [
    "training_log_path=os.path.join(log_path,)"
   ]
  },
  {
   "cell_type": "code",
   "execution_count": 3,
   "id": "d0e2fd5b",
   "metadata": {},
   "outputs": [],
   "source": [
    "log_path=os.path.join(\"training\",\"logs\")\n",
    "training_log_path=os.path.join(log_path,'PPO_6')\n",
    "\n"
   ]
  },
  {
   "cell_type": "code",
   "execution_count": 11,
   "id": "7305e566",
   "metadata": {},
   "outputs": [],
   "source": [
    "env.close()\n",
    "\n"
   ]
  },
  {
   "cell_type": "code",
   "execution_count": null,
   "id": "5c45d6df",
   "metadata": {},
   "outputs": [],
   "source": []
  }
 ],
 "metadata": {
  "kernelspec": {
   "display_name": "Python 3 (ipykernel)",
   "language": "python",
   "name": "python3"
  },
  "language_info": {
   "codemirror_mode": {
    "name": "ipython",
    "version": 3
   },
   "file_extension": ".py",
   "mimetype": "text/x-python",
   "name": "python",
   "nbconvert_exporter": "python",
   "pygments_lexer": "ipython3",
   "version": "3.9.13"
  }
 },
 "nbformat": 4,
 "nbformat_minor": 5
}
